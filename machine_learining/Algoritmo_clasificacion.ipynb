{
 "cells": [
  {
   "cell_type": "markdown",
   "metadata": {},
   "source": [
    "# Algoritmos de clasificación\n",
    "\n",
    "Una de las librerías más populares para la introducción a machine learning es **scikit-learn**. Esto se debe en gran parte a su basta documentación, tutotirales y ejemplos disponibles en internet.\n",
    "\n",
    "Este notebook tiene como objetivo exponer clasificadores y validarlos como tal. \n"
   ]
  },
  {
   "cell_type": "markdown",
   "metadata": {
    "collapsed": false
   },
   "source": [
    "### Digits data set\n",
    "\n",
    "Esta base de datos consta de 1797 imagenes. Cada imagen es de 8x8 pixeles de números entre el 0 y el 9, donde estos digitos están escritos a mano. Con el código siguiente cargamos la base de datos"
   ]
  },
  {
   "cell_type": "code",
   "execution_count": 2,
   "metadata": {
    "collapsed": false
   },
   "outputs": [
    {
     "data": {
      "text/plain": [
       "\"Optical Recognition of Handwritten Digits Data Set\\n===================================================\\n\\nNotes\\n-----\\nData Set Characteristics:\\n    :Number of Instances: 5620\\n    :Number of Attributes: 64\\n    :Attribute Information: 8x8 image of integer pixels in the range 0..16.\\n    :Missing Attribute Values: None\\n    :Creator: E. Alpaydin (alpaydin '@' boun.edu.tr)\\n    :Date: July; 1998\\n\\nThis is a copy of the test set of the UCI ML hand-written digits datasets\\nhttp://archive.ics.uci.edu/ml/datasets/Optical+Recognition+of+Handwritten+Digits\\n\\nThe data set contains images of hand-written digits: 10 classes where\\neach class refers to a digit.\\n\\nPreprocessing programs made available by NIST were used to extract\\nnormalized bitmaps of handwritten digits from a preprinted form. From a\\ntotal of 43 people, 30 contributed to the training set and different 13\\nto the test set. 32x32 bitmaps are divided into nonoverlapping blocks of\\n4x4 and the number of on pixels are counted in each block. This generates\\nan input matrix of 8x8 where each element is an integer in the range\\n0..16. This reduces dimensionality and gives invariance to small\\ndistortions.\\n\\nFor info on NIST preprocessing routines, see M. D. Garris, J. L. Blue, G.\\nT. Candela, D. L. Dimmick, J. Geist, P. J. Grother, S. A. Janet, and C.\\nL. Wilson, NIST Form-Based Handprint Recognition System, NISTIR 5469,\\n1994.\\n\\nReferences\\n----------\\n  - C. Kaynak (1995) Methods of Combining Multiple Classifiers and Their\\n    Applications to Handwritten Digit Recognition, MSc Thesis, Institute of\\n    Graduate Studies in Science and Engineering, Bogazici University.\\n  - E. Alpaydin, C. Kaynak (1998) Cascading Classifiers, Kybernetika.\\n  - Ken Tang and Ponnuthurai N. Suganthan and Xi Yao and A. Kai Qin.\\n    Linear dimensionalityreduction using relevance weighted LDA. School of\\n    Electrical and Electronic Engineering Nanyang Technological University.\\n    2005.\\n  - Claudio Gentile. A New Approximate Maximal Margin Classification\\n    Algorithm. NIPS. 2000.\\n\""
      ]
     },
     "execution_count": 2,
     "metadata": {},
     "output_type": "execute_result"
    }
   ],
   "source": [
    "import numpy as np ## como siempre importamos numpy\n",
    "import matplotlib.pyplot as plt \n",
    "%matplotlib inline\n",
    "from sklearn.datasets import load_digits\n",
    "digitos = load_digits()\n",
    "digitos.DESCR  ## Información"
   ]
  },
  {
   "cell_type": "code",
   "execution_count": 16,
   "metadata": {
    "collapsed": false
   },
   "outputs": [
    {
     "data": {
      "text/plain": [
       "1797"
      ]
     },
     "execution_count": 16,
     "metadata": {},
     "output_type": "execute_result"
    }
   ],
   "source": [
    "len(digitos.data) ## cantidad de imagenes en el data set"
   ]
  },
  {
   "cell_type": "markdown",
   "metadata": {
    "collapsed": true
   },
   "source": [
    "#### Visualización de las imagenes\n",
    "\n",
    "Cada imagen es de 8x8 pixeles, en términos matriciales, cada imagen es representada por una matriz de 8x8. La forma de visualizar cada imagen es la siguiente"
   ]
  },
  {
   "cell_type": "code",
   "execution_count": 35,
   "metadata": {
    "collapsed": false
   },
   "outputs": [
    {
     "name": "stdout",
     "output_type": "stream",
     "text": [
      "[[  0.   0.   5.  13.   9.   1.   0.   0.]\n",
      " [  0.   0.  13.  15.  10.  15.   5.   0.]\n",
      " [  0.   3.  15.   2.   0.  11.   8.   0.]\n",
      " [  0.   4.  12.   0.   0.   8.   8.   0.]\n",
      " [  0.   5.   8.   0.   0.   9.   8.   0.]\n",
      " [  0.   4.  11.   0.   1.  12.   7.   0.]\n",
      " [  0.   2.  14.   5.  10.  12.   0.   0.]\n",
      " [  0.   0.   6.  13.  10.   0.   0.   0.]]\n"
     ]
    }
   ],
   "source": [
    "### Representación matricial de las cuatro primeras imagenes del data set\n",
    "imagen_1 = digitos.images[0]\n",
    "imagen_2 = digitos.images[1]\n",
    "imagen_3 = digitos.images[2]\n",
    "imagen_4 = digitos.images[3]\n",
    "print imagen_1"
   ]
  },
  {
   "cell_type": "code",
   "execution_count": 38,
   "metadata": {
    "collapsed": false
   },
   "outputs": [
    {
     "data": {
      "image/png": "[encoded data removed]",
      "text/plain": [
       "<matplotlib.figure.Figure at 0x1f541630>"
      ]
     },
     "metadata": {},
     "output_type": "display_data"
    }
   ],
   "source": [
    "## Visualización ###\n",
    "f, axis = plt.subplots(2,2,  figsize=(10, 10))\n",
    "axis[0,0].matshow(imagen_1)\n",
    "axis[0,1].matshow(imagen_2)\n",
    "axis[1,0].matshow(imagen_3)\n",
    "axis[1,1].matshow(imagen_4)\n",
    "plt.show()"
   ]
  },
  {
   "cell_type": "code",
   "execution_count": 45,
   "metadata": {
    "collapsed": false
   },
   "outputs": [
    {
     "data": {
      "text/plain": [
       "<matplotlib.figure.Figure at 0x1f5207b8>"
      ]
     },
     "metadata": {},
     "output_type": "display_data"
    },
    {
     "data": {
      "image/png": "[encoded data removed]",
      "text/plain": [
       "<matplotlib.figure.Figure at 0x1f520828>"
      ]
     },
     "metadata": {},
     "output_type": "display_data"
    }
   ],
   "source": [
    "## Usualmente se visualiza en escala de grises ##\n",
    "plt.gray() ## basta añadir este comando :)\n",
    "f, axis = plt.subplots(2,2,  figsize=(10, 10))\n",
    "axis[0,0].matshow(imagen_1)\n",
    "axis[0,1].matshow(imagen_2)\n",
    "axis[1,0].matshow(imagen_3)\n",
    "axis[1,1].matshow(imagen_4)\n",
    "plt.show()"
   ]
  },
  {
   "cell_type": "markdown",
   "metadata": {
    "collapsed": true
   },
   "source": [
    "#### Cada imagen tiene asociada una etiqueta (0,1, .... ó 9). "
   ]
  },
  {
   "cell_type": "code",
   "execution_count": 6,
   "metadata": {
    "collapsed": false
   },
   "outputs": [
    {
     "name": "stdout",
     "output_type": "stream",
     "text": [
      "la imagen uno corresponde al digito 0\n"
     ]
    }
   ],
   "source": [
    "etiquetas = digitos.target\n",
    "print 'la imagen uno corresponde al digito', etiquetas[0]"
   ]
  },
  {
   "cell_type": "markdown",
   "metadata": {
    "collapsed": true
   },
   "source": [
    "**Objetivo: **  Implementar un algoritmo de clásificación, cuyo imput sea cada una de las imagenes presentes en el data set y que nos retorne a que número corresponde. Para implementar dicho algoritmo debemos separar los datos en datos de entrenamiento y datos de testeo.\n",
    "\n",
    "#### Separamos los datos en datos de entrenamiento y datos de prueba!"
   ]
  },
  {
   "cell_type": "code",
   "execution_count": 10,
   "metadata": {
    "collapsed": false
   },
   "outputs": [
    {
     "name": "stdout",
     "output_type": "stream",
     "text": [
      "(1257L, 64L) (540L, 64L) (1257L,) (540L,)\n"
     ]
    }
   ],
   "source": [
    "## Separamos los datos en datos de entrenamiento y datos de prueba!\n",
    "from sklearn.model_selection import train_test_split\n",
    "digitos_train, digitos_test, etiquetas_train, etiquetas_test = train_test_split(digitos.data, etiquetas, test_size=0.3, random_state=0)\n",
    "print digitos_train.shape, digitos_test.shape, etiquetas_train.shape, etiquetas_test.shape"
   ]
  },
  {
   "cell_type": "markdown",
   "metadata": {
    "collapsed": false
   },
   "source": [
    "#### Aplicacamos el algoritmo KKN"
   ]
  },
  {
   "cell_type": "code",
   "execution_count": 36,
   "metadata": {
    "collapsed": false
   },
   "outputs": [
    {
     "name": "stdout",
     "output_type": "stream",
     "text": [
      "el error es 10 !!!! ¿sorprendente no?\n"
     ]
    }
   ],
   "source": [
    "from sklearn.neighbors import KNeighborsClassifier\n",
    "vecinos = KNeighborsClassifier(n_neighbors=5)\n",
    "vecinos.fit(digitos_train, etiquetas_train) ### ajustamos el modelo!\n",
    "### A continuación vamos a predecir las etiquetas de los datos que dejamos como prueba!!\n",
    "etiquetas_predichas = vecinos.predict(digitos_test)\n",
    "### ¿errores? ####\n",
    "error = 0\n",
    "for i in range(len(etiquetas_test)):\n",
    "        if etiquetas_predichas[i] != etiquetas_test[i]:\n",
    "            error = error + 1\n",
    "print 'el error es', error , '!!!!', '¿sorprendente no?'            "
   ]
  },
  {
   "cell_type": "markdown",
   "metadata": {
    "collapsed": true
   },
   "source": [
    "#### Veamos ahora que etiquetas fueron incorrectamente asignadas"
   ]
  },
  {
   "cell_type": "code",
   "execution_count": 38,
   "metadata": {
    "collapsed": false
   },
   "outputs": [
    {
     "name": "stdout",
     "output_type": "stream",
     "text": [
      "[False False False False False False False False False False False False\n",
      " False False False False False False False False False False False False\n",
      " False False False False False False False False False False False False\n",
      " False False False False False False False False False False False False\n",
      " False False False False False False False False False False False False\n",
      " False False False False False False  True False False False False False\n",
      " False False False False False False False False False False False False\n",
      " False False False False False False False False False False False False\n",
      " False False False False False False False False False False False False\n",
      " False False False False False False False False False False False False\n",
      " False False  True False  True False False False False False False False\n",
      " False False False False False False False False False False False False\n",
      " False False False False False False False False False False False False\n",
      " False False False False False False False False False False False False\n",
      " False  True False False False False False False False False False False\n",
      " False  True False False False False False False False False False False\n",
      " False False False False False False False False False False False False\n",
      " False False False False False False False False False False False False\n",
      " False False False False False False False False False False False False\n",
      " False False False False False False False False False False False False\n",
      " False False False False False False False False False False False False\n",
      "  True False False False False False False False False False False False\n",
      " False False False False False False False False False False False False\n",
      " False False False False False False False False False False False False\n",
      " False False False False False False False False False False False False\n",
      " False False False False False False False False False False False False\n",
      "  True False False  True False False False False False False False False\n",
      " False False False False False False False  True False False False False\n",
      " False False False False False False False False False False False False\n",
      " False False False False False False False False False False False False\n",
      " False False False False False False False False False False False False\n",
      " False False False False False False False False False False False False\n",
      " False False False False False False False False False False False False\n",
      " False False False False False False False False False False False False\n",
      " False False False False False False False False False False False False\n",
      " False False False False False False False False False False False False\n",
      " False False False False False False False False False False False False\n",
      " False False False False False False False False False False False False\n",
      " False False False False False False False False False False False False\n",
      " False False False False  True False False False False False False False\n",
      " False False False False False False False False False False False False\n",
      " False False False False False False False False False False False False\n",
      " False False False False False False False False False False False False\n",
      " False False False False False False False False False False False False\n",
      " False False False False False False False False False False False False]\n"
     ]
    }
   ],
   "source": [
    "mascara = etiquetas_predichas != etiquetas_test   #### con una simple mascara detectamos las etiquetas incorrectas\n",
    "print mascara"
   ]
  },
  {
   "cell_type": "code",
   "execution_count": 68,
   "metadata": {
    "collapsed": false
   },
   "outputs": [
    {
     "name": "stdout",
     "output_type": "stream",
     "text": [
      "(10L, 64L)\n",
      "[7 6 1 3 9 2 5 7 5 6] [2 8 8 8 5 3 9 4 1 5]\n"
     ]
    }
   ],
   "source": [
    "digitos_incorrectos = digitos_test[mascara]   ## digitos mal predichos\n",
    "etiquetas_correctas = etiquetas_test[mascara] ## etiquetas verdaderas de los que fueron mal predichos\n",
    "etiquetas_predichas_erroneas = etiquetas_predichas[mascara] ## etiquetas mal puestas\n",
    "print digitos_incorrectos.shape   ### ahi las 10 imagenes de 8x8 que fueron etiquetadas incorrecta!\n",
    "print etiquetas_predichas_erroneas, etiquetas_correctas"
   ]
  },
  {
   "cell_type": "markdown",
   "metadata": {
    "collapsed": true
   },
   "source": [
    "#### Visualizamos las imágenes que tuvieron error, en verde el número correcto y en amarillo la etiqueta erronea"
   ]
  },
  {
   "cell_type": "code",
   "execution_count": 98,
   "metadata": {
    "collapsed": false
   },
   "outputs": [
    {
     "data": {
      "text/plain": [
       "<matplotlib.figure.Figure at 0xbab44e0>"
      ]
     },
     "metadata": {},
     "output_type": "display_data"
    },
    {
     "data": {
      "image/png": "[encoded data removed]",
      "text/plain": [
       "<matplotlib.figure.Figure at 0xe9ff3c8>"
      ]
     },
     "metadata": {},
     "output_type": "display_data"
    }
   ],
   "source": [
    "plt.gray() \n",
    "f, axis = plt.subplots(5,2 ,figsize=(10,10))\n",
    "f.tight_layout()\n",
    "f.subplots_adjust(left=0, bottom=0, right=1, top=1, hspace=0.1)\n",
    "for j in range(5):\n",
    "    axis[j,0].matshow(np.reshape(digitos_incorrectos[j], (8,8)))\n",
    "    axis[j,1].matshow(np.reshape(digitos_incorrectos[j+5], (8,8)))\n",
    "    axis[j,0].text(7, 1, str(etiquetas_predichas_erroneas[j]),  fontsize=15, color='yellow')\n",
    "    axis[j,1].text(7, 1, str(etiquetas_predichas_erroneas[j +5]),  fontsize=15, color='yellow')\n",
    "    axis[j,0].text(0, 1, str(etiquetas_correctas[j]),  fontsize=15, color='green')\n",
    "    axis[j,1].text(0, 1, str(etiquetas_correctas[j+5]),  fontsize=15, color='green')\n",
    "plt.show()"
   ]
  },
  {
   "cell_type": "markdown",
   "metadata": {
    "collapsed": true
   },
   "source": [
    "### Iris data set\n",
    "\n",
    "\n",
    "editando!"
   ]
  },
  {
   "cell_type": "code",
   "execution_count": null,
   "metadata": {
    "collapsed": true
   },
   "outputs": [],
   "source": []
  }
 ],
 "metadata": {
  "kernelspec": {
   "display_name": "Python 2",
   "language": "python",
   "name": "python2"
  },
  "language_info": {
   "codemirror_mode": {
    "name": "ipython",
    "version": 2
   },
   "file_extension": ".py",
   "mimetype": "text/x-python",
   "name": "python",
   "nbconvert_exporter": "python",
   "pygments_lexer": "ipython2",
   "version": "2.7.14"
  }
 },
 "nbformat": 4,
 "nbformat_minor": 0
}
