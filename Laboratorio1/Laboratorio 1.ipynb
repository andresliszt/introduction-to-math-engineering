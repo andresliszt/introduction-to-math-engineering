{
 "cells": [
  {
   "cell_type": "markdown",
   "metadata": {},
   "source": [
    "# Introducción a Python\n"
   ]
  },
  {
   "cell_type": "markdown",
   "metadata": {},
   "source": [
    "# Python como calculadora\n",
    "La función más básica de python es tal vez su uso como calculadora, a continuación se describen las operaciones suma $+$, resta $-$, multiplicación $*$ y división de numeros reales.\n",
    "![](/Laboratorio1/imagenes/calculadora.jpg)"
   ]
  },
  {
   "cell_type": "code",
   "execution_count": 24,
   "metadata": {
    "collapsed": false
   },
   "outputs": [
    {
     "data": {
      "text/plain": [
       "2"
      ]
     },
     "execution_count": 24,
     "metadata": {},
     "output_type": "execute_result"
    }
   ],
   "source": [
    "1+1 # Operación suma: Basta usar el simbolo + "
   ]
  },
  {
   "cell_type": "markdown",
   "metadata": {},
   "source": [
    "Observemos lo siguiente, cuando en una misma celda de código escribimos varios sumas, como se ve a continuación\n"
   ]
  },
  {
   "cell_type": "code",
   "execution_count": 3,
   "metadata": {
    "collapsed": false,
    "scrolled": true
   },
   "outputs": [
    {
     "data": {
      "text/plain": [
       "1100"
      ]
     },
     "execution_count": 3,
     "metadata": {},
     "output_type": "execute_result"
    }
   ],
   "source": [
    "1+1\n",
    "2+2    # Muchas sumas en una misma celda de código\n",
    "4+5\n",
    "100+1000"
   ]
  },
  {
   "cell_type": "markdown",
   "metadata": {},
   "source": [
    "esta celda nos otorga el valor de la última suma (última linea de la celda). Para obtener todos los valores debemos usar el comando `print`\n"
   ]
  },
  {
   "cell_type": "code",
   "execution_count": 3,
   "metadata": {
    "collapsed": false
   },
   "outputs": [
    {
     "name": "stdout",
     "output_type": "stream",
     "text": [
      "2\n",
      "4\n",
      "9\n",
      "1100\n"
     ]
    }
   ],
   "source": [
    "print 1+1\n",
    "print 2+2 #Ahora la celda nos otorga el valor de las 4 sumas, todo gracias al comando print\n",
    "print 4+5 \n",
    "print 100+1000"
   ]
  },
  {
   "cell_type": "markdown",
   "metadata": {
    "collapsed": true
   },
   "source": [
    "La $\\textbf{resta}$ es completamente análoga a la suma. La $\\textbf{división}$ requiere un poco más de cuidado, notemos la siguiente division"
   ]
  },
  {
   "cell_type": "code",
   "execution_count": 1,
   "metadata": {
    "collapsed": false
   },
   "outputs": [
    {
     "data": {
      "text/plain": [
       "2"
      ]
     },
     "execution_count": 1,
     "metadata": {},
     "output_type": "execute_result"
    }
   ],
   "source": [
    "7/3"
   ]
  },
  {
   "cell_type": "markdown",
   "metadata": {
    "collapsed": true
   },
   "source": [
    "esta división $7/3$ nos otorga el valor de 2, es decir, el valor truncado. Para obtener los decimales se debe agregar un punto al final de cada número, esto se conoce como declaración de número $\\textit{flotante}$. \n",
    "\n",
    "$\\textbf{Importante:}$ la declaración de un número como flotante es muy importante, suele suceder en códigos complejos la no declaración de números como flotantes, arroja resultados completamente diferentes.\n",
    "\n",
    "En la celda siguiente, se escribe la manera de dividir que considera los decimales"
   ]
  },
  {
   "cell_type": "code",
   "execution_count": 4,
   "metadata": {
    "collapsed": false
   },
   "outputs": [
    {
     "data": {
      "text/plain": [
       "2.3333333333333335"
      ]
     },
     "execution_count": 4,
     "metadata": {},
     "output_type": "execute_result"
    }
   ],
   "source": [
    "7./3."
   ]
  },
  {
   "cell_type": "markdown",
   "metadata": {},
   "source": [
    "La $\\textbf{multiplicación}$ se ejecuta con el comando $\\ast$. Para elevar un número a alguna $\\textbf{potencia}$ usamos doble asterisco $\\ast\\ast$"
   ]
  },
  {
   "cell_type": "code",
   "execution_count": 7,
   "metadata": {
    "collapsed": false
   },
   "outputs": [
    {
     "name": "stdout",
     "output_type": "stream",
     "text": [
      "30458200\n",
      "-1988\n",
      "62\n"
     ]
    }
   ],
   "source": [
    "print 100*304582 \n",
    "print 2**9 - 2500\n",
    "print 2**1 + 2**2 + 2**3 + 2**4 + 2**5"
   ]
  },
  {
   "cell_type": "markdown",
   "metadata": {},
   "source": [
    "El uso de parentesis sigue los mismos principios de la operatoria elemental. En la operatoria de Python el parentesis se declara con el simbolo usual $()$. Por ejemplo si queremos resolver \n",
    "$$\\frac{\\left((1+ 256)180- 200(3^{2} + 1)\\right)}{2^5}$$\n",
    "en Python se hace como en la celda siguiente"
   ]
  },
  {
   "cell_type": "code",
   "execution_count": 10,
   "metadata": {
    "collapsed": false
   },
   "outputs": [
    {
     "data": {
      "text/plain": [
       "1383.125"
      ]
     },
     "execution_count": 10,
     "metadata": {},
     "output_type": "execute_result"
    }
   ],
   "source": [
    "((1.+256.)*180. -200.*(3.**2+1.))/2.**5"
   ]
  },
  {
   "cell_type": "markdown",
   "metadata": {},
   "source": [
    "$\\textbf{Observación:}$ en la celda anterior declaramos todos los números como flotantes al poner el punto. Sin embargo para que el resultado sea el correcto, basta declarar tan solo un número como flotante ó usar el comando `float`"
   ]
  },
  {
   "cell_type": "code",
   "execution_count": 14,
   "metadata": {
    "collapsed": false
   },
   "outputs": [
    {
     "name": "stdout",
     "output_type": "stream",
     "text": [
      "1383.125\n",
      "1383.125\n"
     ]
    }
   ],
   "source": [
    "print ((1.+256)*180 -200*(3**2+1))/2**5 ## aquí solo declarmos el número 1 como flotante al ponerlo como 1.\n",
    "print float ((1+256)*180 -200*(3**2+1))/2**5  ## aquí solo escribimos la operación aritmética y usamos el comando float "
   ]
  },
  {
   "cell_type": "markdown",
   "metadata": {},
   "source": [
    "Los $\\textbf{números decimales}$ escriben usando la notación usual del punto, y la operatoria aritmética es completamente análoga a la que definimos previamente"
   ]
  },
  {
   "cell_type": "code",
   "execution_count": 16,
   "metadata": {
    "collapsed": false
   },
   "outputs": [
    {
     "name": "stdout",
     "output_type": "stream",
     "text": [
      "4.006\n"
     ]
    }
   ],
   "source": [
    "print 2.5 + 2.666 - 2.6**2 + 5.6"
   ]
  },
  {
   "cell_type": "markdown",
   "metadata": {},
   "source": [
    "# Ejercicio 1\n",
    "Resolver la siguiente operatoria aritmética\n",
    "$$ \\frac{5^{3}\\left(500.5 - 2^{2^{20}} + 120-5(\\frac{2^5}{6} -3)\\right)}{2569+3^{7}}$$"
   ]
  },
  {
   "cell_type": "code",
   "execution_count": 17,
   "metadata": {
    "collapsed": true
   },
   "outputs": [],
   "source": [
    "## Escribir aca la respuesta##\n"
   ]
  },
  {
   "cell_type": "markdown",
   "metadata": {},
   "source": [
    "# Declaración de variables\n",
    "En python una de las funciones básicas más importantes corresponde a la declaración de variables. Las variables pueden contener un número, una cadena o un valor lógico (verdadero/falso) y muchas cosas más. Con el signo de asignación ( = ) se da un valor a la variable, que mantendrá hasta que el programa termine de ejecutarse o hasta que se le asigne un nuevo valor. En esta parte estaremos enfocados en $\\textbf{asignaciones númericas}$. Una vez declarada una variable con un valor númerico, las operaciones elementales definidas anteriormente, funcionan de la misma forma.\n"
   ]
  },
  {
   "cell_type": "code",
   "execution_count": 10,
   "metadata": {
    "collapsed": false
   },
   "outputs": [
    {
     "name": "stdout",
     "output_type": "stream",
     "text": [
      "1\n"
     ]
    }
   ],
   "source": [
    "x = 1 ## asignamos el valor 1 a la variable\n",
    "print x "
   ]
  },
  {
   "cell_type": "markdown",
   "metadata": {
    "collapsed": true
   },
   "source": [
    "$\\textbf{Observación}:$ Las variables se pueden redefinir, esto es, la variable guardará el último valor que le fue asignado."
   ]
  },
  {
   "cell_type": "code",
   "execution_count": 11,
   "metadata": {
    "collapsed": false
   },
   "outputs": [
    {
     "name": "stdout",
     "output_type": "stream",
     "text": [
      "3\n"
     ]
    }
   ],
   "source": [
    "a = 1\n",
    "a = 2\n",
    "a = 3  ## este último valor, guardará la variable a\n",
    "print a\n"
   ]
  },
  {
   "cell_type": "markdown",
   "metadata": {
    "collapsed": true
   },
   "source": [
    "# Definición de funciones (básicas)\n",
    "Introduciremos el concepto de función en Python. Podemos definir una función como un código reutilizable, que esta hecho para resolver una determinada tarea. Para definir una función se comienza con la instrucción `def` seguido de el nombre que se le asignará a la función y de un paréntesis acompañado de los puntos `:`. Posterior a eso, escribimos el código que define la función. Observemos el siguiente ejemplo básico"
   ]
  },
  {
   "cell_type": "code",
   "execution_count": 14,
   "metadata": {
    "collapsed": true
   },
   "outputs": [],
   "source": [
    "def mi_funcion():\n",
    "    print \"hola mundo\"\n",
    "    "
   ]
  },
  {
   "cell_type": "markdown",
   "metadata": {
    "collapsed": true
   },
   "source": [
    "En la celda anterior hemos definido `mi_funcion `, cuando la llamamos (ver celda siguiente) nos entrega el print que la define"
   ]
  },
  {
   "cell_type": "code",
   "execution_count": 16,
   "metadata": {
    "collapsed": false
   },
   "outputs": [
    {
     "name": "stdout",
     "output_type": "stream",
     "text": [
      "hola mundo\n"
     ]
    }
   ],
   "source": [
    "mi_funcion()  ## llamando la función"
   ]
  },
  {
   "cell_type": "markdown",
   "metadata": {
    "collapsed": true
   },
   "source": [
    "$\\textbf{Observación}:$ Quizas notaron que la función definida anteriormente no tiene argumentos de entrada. Una función puede tener argumentos de entrada. Para ello en el parentesis debemos indicarlos, y corresponderán a las variables. En el caso anterior, usamos `print` para retornar, debido a que la función entregaba una frase de texto. Ahora usaremos el comando `return` que nos otorga el valor de la función\n",
    "![](Laboratorio1/imagenes/imput.png)\n",
    "En el siguiente código creamos una función que retorna el volumen de una piramide"
   ]
  },
  {
   "cell_type": "code",
   "execution_count": 23,
   "metadata": {
    "collapsed": false
   },
   "outputs": [
    {
     "data": {
      "text/plain": [
       "10.0"
      ]
     },
     "execution_count": 23,
     "metadata": {},
     "output_type": "execute_result"
    }
   ],
   "source": [
    "def volumen_piramide(base,altura):  \n",
    "    return float (1/3.)*base*altura\n",
    "volumen_piramide(5,6)"
   ]
  },
  {
   "cell_type": "markdown",
   "metadata": {},
   "source": [
    "A continuación más ejemplos de funciones. **Importante** en las funciones podemos usar parámetros, observe la función `saludar` en el código siguiente, en ella se usa el parámetro `mensaje`"
   ]
  },
  {
   "cell_type": "code",
   "execution_count": 50,
   "metadata": {
    "collapsed": false
   },
   "outputs": [],
   "source": [
    "def nombre_completo(nombre,apellido):    ### función que retorna el nombre y apellido\n",
    "    print nombre, apellido\n",
    "def saludar (nombre, apellido, mensaje = 'hola'):  ##funcion que retorna un saludo\n",
    "     print mensaje, nombre, apellido\n",
    "def hipotenusa(a,b):          ## entrega la hipotenusa de un triangulo rectángulo de catetos a y b\n",
    "    c = (a**2 +b**2)**(0.5)\n",
    "    return c\n",
    "def movimiento_rectilineo_uniformemente_acelerado(a,x_0,v_0,t):\n",
    "    velocidad_t = a*t + v_0\n",
    "    posicion_t = 0.5*t**2 + v_0*t + x_0\n",
    "    return velocidad_t, posicion_t"
   ]
  },
  {
   "cell_type": "markdown",
   "metadata": {},
   "source": [
    "**Obervación**: Hasta ahora hemos usado como entrada para las funciones frases de texto ó números, veremos que existe una vasta gama de poibles entradas, como por ejemplo los vectores o matrices."
   ]
  },
  {
   "cell_type": "markdown",
   "metadata": {},
   "source": [
    "# Libreria Numpy"
   ]
  },
  {
   "cell_type": "markdown",
   "metadata": {
    "collapsed": false
   },
   "source": [
    "Python es un lenguaje de fuente abierta, esto es existen muchos colaboradores que crean paquetes o librerias que están a libre disposición de los usuarios. Estos paquetes o librerias pueden estar en un repositorio como Github [Github](https://github.com/) o en el repositorio oficial de Python [pypi](https://pypi.python.org/pypi). [Numpy](http://www.numpy.org/) es una librería clásica. Es una librería en la que se define un tipo de dato que representa matrices multidimensionales. Además incluye algunas funcionalidades básicas para trabajar con ellas. Numpy es una librería estable y muy rápida.\n",
    "* Python tiene listas, enteros, punto flotante, etc. Para cálculo numérico necesitamos más... allí aparece Numpy.\n",
    "* Numpy es un paquete que provee a Python con arreglos multidimensionales de alta eficiencia y diseñados para cálculo científico.\n",
    "* Un array puede contener: tiempos discretos de un experimento o simulación, señales grabadas por un instrumento de medida, pixeles de una imagen, etc.\n",
    "\n",
    "Para importar Numpy debemos realizar\n",
    "\n",
    "`import numpy as np`"
   ]
  },
  {
   "cell_type": "code",
   "execution_count": 1,
   "metadata": {
    "collapsed": false
   },
   "outputs": [],
   "source": [
    "import numpy as np ## llamamos a la lirería numpy, esta queda incorporada en esta hoja de trabajo sin necesidad de volver a llamarla\n"
   ]
  },
  {
   "cell_type": "markdown",
   "metadata": {
    "collapsed": false
   },
   "source": [
    "A continuación comenzamos definiendo el objeto arreglo o array en ingles. Un array es un objeto multidimensional, en dimensión 1 un array corresponde a un vector, en dimensión 2 corresponde a una matriz. Para un array tridimensional: primera componente son las filas, segunda componente son las columnas, tercera componente es la dimensión adicional.\n",
    "![](Laboratorio1/imagenes/array3.png)\n"
   ]
  },
  {
   "cell_type": "code",
   "execution_count": 49,
   "metadata": {
    "collapsed": false
   },
   "outputs": [
    {
     "data": {
      "text/plain": [
       "array([ 1.,  2.,  3.,  4.])"
      ]
     },
     "execution_count": 49,
     "metadata": {},
     "output_type": "execute_result"
    },
    {
     "name": "stdout",
     "output_type": "stream",
     "text": [
      "\n"
     ]
    }
   ],
   "source": [
    "a = np.array([1,2,3,4], dtype = float) # definición de array unidimensional, lo definimos como flotante\n",
    "a"
   ]
  },
  {
   "cell_type": "code",
   "execution_count": 54,
   "metadata": {
    "collapsed": false
   },
   "outputs": [
    {
     "name": "stdout",
     "output_type": "stream",
     "text": [
      "Tipo del objeto a =  <type 'numpy.ndarray'>\n",
      " Dimensión de a =  1\n",
      " Cantidad de elementos =  4\n",
      " Sumatoria elementos de a =  10.0\n",
      "a_1, a_3 = 1.0 3.0\n",
      "a_4 =  4.0\n",
      "Promedio elementos de a= 2.5\n",
      "3*a=  [  3.   6.   9.  12.]\n",
      " a+2 =  [ 3.  4.  5.  6.]\n",
      " a*b =  [  1.   4.  15.  24.]\n",
      " <a,b> =  44.0\n"
     ]
    }
   ],
   "source": [
    "### algunas funciones elementales ####\n",
    "b = np.array([1,2,5,6]) ### creamos otro array para hacer operaciones con el array a\n",
    "print  \"Tipo del objeto a = \",  type(a) ### tipo de objeto \n",
    "print \" Dimensión de a = \", a.ndim  ###dimension del array\n",
    "print \" Cantidad de elementos = \", len(a)  ### cantidad de elementos en la primera dimension\n",
    "print \" Sumatoria elementos de a = \", np.sum(a) ### suma todos los elementos del array\n",
    "print \"a_1, a_3 =\", a[0], a[2] ### para acceder a los elementos del array, note que el contador comienza en 0, a[0] es el primer elemento\n",
    "print \"a_4 = \", a[-1] ### nos otorga el último elemento del array\n",
    "print \"Promedio elementos de a=\", np.mean(a) ### nos entrega el promedio\n",
    "print \"3*a= \", 3*a  ### multiplica todos los terminos del array\n",
    "print \" a+2 = \", 2 + a ### cuando sumamos un número a un array, este se suma a cada término\n",
    "print \" a*b = \", a*b ### la multiplicaciones de arrays usando * es término a término\n",
    "print \" <a,b> = \", np.dot(a,b) ### corresponde al producto punto entre vectores\n"
   ]
  },
  {
   "cell_type": "code",
   "execution_count": 47,
   "metadata": {
    "collapsed": false
   },
   "outputs": [
    {
     "name": "stdout",
     "output_type": "stream",
     "text": [
      "dimensiones de A y B =  (2L, 4L) (4L, 2L)\n",
      "Fila 1 de A =  [ 1.  2.  3.  4.]\n",
      "Fila 2 de A =  [ 5.  6.  3.  1.]\n",
      "Columna 1 de A =  [ 1.  5.]\n",
      "Elemento A_{2,2} =  6.0\n",
      "A*B =\n",
      "[[ 18.  72.]\n",
      " [ 27.  97.]]\n"
     ]
    }
   ],
   "source": [
    "########## Arrays 2 dimensionales (matrices) ############\n",
    "A = np.array ([[1,2,3,4],[5,6,3,1]] ,  dtype = float) ### creación de un array de 2x4\n",
    "B = np.array ([[1,5],[2,8],[3,5],[1,9]], dtype = float) ### creación de un array de 4x2\n",
    "\n",
    "print \"Dimensiones de A y B = \",np.shape(A), np.shape(B)  ### nos otorga ls dimensiones de los arreglos\n",
    "print  \"Fila 1 de A = \",  A[0,:] ### nos da acceso a la primera fila del arreglo A\n",
    "print \"Fila 2 de A = \", A[1,:] ### nos da acceso a la segunda fila del arreglo A\n",
    "print \"Columna 1 de A = \", A[:,0] ### nos da acceso a la primera columna del arreglo A\n",
    "print \"Elemento A_{2,2} = \", A[1,1] ### nos entrega el elemento A_{2,2} de el arreglo A\n",
    "print \"A*B =\\n\", np.dot(A,B) ### multiplicación usual de matrices, note que se deben tener las dimensiones correctas de la multiplicación\n"
   ]
  },
  {
   "cell_type": "markdown",
   "metadata": {},
   "source": [
    "# Ejercicio 2\n",
    "\n",
    "* Defina las siguientes matrices \n",
    "\\begin{equation*}\n",
    "  M = \\begin{bmatrix}\n",
    "    1 & 2 & 3 & 4 & 5 \\\\\n",
    "    3 & 4 & 5 & 6 & 7 \\\\\n",
    "    7 & 8 & 4.5 & 10.7 & 8\n",
    "      \\end{bmatrix}\n",
    "\\end{equation*}\n",
    "\n",
    "\n",
    "\\begin{equation*}\n",
    "  N = \\begin{bmatrix}\n",
    "    1 & 20 & 9  \\\\\n",
    "    3.4 & 4.1 & 0 \\\\\n",
    "    4.5 & 2  & 1.1\n",
    "  \\end{bmatrix}\n",
    "\\end{equation*}\n",
    "\n",
    "* Calcule $M^{2}$\n",
    "\n",
    "* Calcule $ N*M$"
   ]
  },
  {
   "cell_type": "code",
   "execution_count": null,
   "metadata": {
    "collapsed": true
   },
   "outputs": [],
   "source": [
    "######### Escribir Respuestas aca #############"
   ]
  }
 ],
 "metadata": {
  "kernelspec": {
   "display_name": "Python 2",
   "language": "python",
   "name": "python2"
  },
  "language_info": {
   "codemirror_mode": {
    "name": "ipython",
    "version": 2
   },
   "file_extension": ".py",
   "mimetype": "text/x-python",
   "name": "python",
   "nbconvert_exporter": "python",
   "pygments_lexer": "ipython2",
   "version": "2.7.11"
  }
 },
 "nbformat": 4,
 "nbformat_minor": 0
}
