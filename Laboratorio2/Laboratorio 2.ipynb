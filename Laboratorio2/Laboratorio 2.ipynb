{
 "cells": [
  {
   "cell_type": "markdown",
   "metadata": {},
   "source": [
    "# Ciclos y sentencias condicionales"
   ]
  },
  {
   "cell_type": "markdown",
   "metadata": {},
   "source": [
    "# Ciclo for\n",
    "Un $\\textit{ciclo for}$ es un ciclo que repite el bloque de instrucciones un número prederminado de veces. El bloque de instrucciones que se repite se suele llamar cuerpo del ciclo y cada repetición se suele llamar iteración.\n",
    "\n",
    "La sintaxis de un bucle for es la siguiente:\n",
    "\n",
    " `for variable in objeto a iterar: \n",
    "             Cuperpo del ciclo`\n",
    "             \n",
    "El objeto a iterar puede ser una matriz, una lista, un rango. La sintaxis variable corresponde a los elementos dentro del objeto que deseamos iterar. Python es amigable con la sintaxis, en vez de haber escrito $\\textit{variable}$, podríamos haber escrito otro calificativo (que conviene escribirlo dependiendo del problema) como $\\textit{número}$ si por ejemplo el objeto a iterar es una lista de números.\n",
    "\n",
    "La mejor manera de entender estos conceptos es por medio de ejemplos. A continuación una lista de ejemplos.... NO OLVIDAR IMPORTAR `numpy`"
   ]
  },
  {
   "cell_type": "code",
   "execution_count": 7,
   "metadata": {
    "collapsed": true
   },
   "outputs": [],
   "source": [
    "import numpy as np  ## SIEMPRE IMPORTAR NUMPY!!!"
   ]
  },
  {
   "cell_type": "code",
   "execution_count": 5,
   "metadata": {
    "collapsed": false
   },
   "outputs": [
    {
     "name": "stdout",
     "output_type": "stream",
     "text": [
      "I\n",
      "n\n",
      "t\n",
      "r\n",
      "o\n",
      "d\n",
      "u\n",
      "c\n",
      "c\n",
      "i\n",
      "o\n",
      "n\n",
      " \n",
      "a\n",
      " \n",
      "l\n",
      "a\n",
      " \n",
      "i\n",
      "n\n",
      "g\n",
      "e\n",
      "n\n",
      "i\n",
      "e\n",
      "r\n",
      "i\n",
      "a\n"
     ]
    }
   ],
   "source": [
    "## EJEMPLO 1 : Recorrer una cadena de texto##\n",
    "for letra in 'Introduccion a la ingenieria':\n",
    "    print letra"
   ]
  },
  {
   "cell_type": "markdown",
   "metadata": {},
   "source": [
    "**Importante:** Recuerden que Python es un software con lenguaje base ingles, por lo tanto no reconoce los acentos en las cadenas de texto. En el ejemplo 1, escribimos el texto \"Introducción a la Ingenieria\" y nuestro ciclo reconoció cada letra que compone la frase. En cada iteración se imprimió la letra correspondiente."
   ]
  },
  {
   "cell_type": "markdown",
   "metadata": {},
   "source": [
    "En el siguiente ejemplo queremos imprimiremos los cuadrados de los primeros 20 números naturales"
   ]
  },
  {
   "cell_type": "code",
   "execution_count": 25,
   "metadata": {
    "collapsed": false
   },
   "outputs": [
    {
     "name": "stdout",
     "output_type": "stream",
     "text": [
      "el cuadrado de 1 vale 1\n",
      "el cuadrado de 2 vale 4\n",
      "el cuadrado de 3 vale 9\n",
      "el cuadrado de 4 vale 16\n",
      "el cuadrado de 5 vale 25\n",
      "el cuadrado de 6 vale 36\n",
      "el cuadrado de 7 vale 49\n",
      "el cuadrado de 8 vale 64\n",
      "el cuadrado de 9 vale 81\n",
      "el cuadrado de 10 vale 100\n",
      "el cuadrado de 11 vale 121\n",
      "el cuadrado de 12 vale 144\n",
      "el cuadrado de 13 vale 169\n",
      "el cuadrado de 14 vale 196\n",
      "el cuadrado de 15 vale 225\n",
      "el cuadrado de 16 vale 256\n",
      "el cuadrado de 17 vale 289\n",
      "el cuadrado de 18 vale 324\n",
      "el cuadrado de 19 vale 361\n",
      "el cuadrado de 20 vale 400\n"
     ]
    }
   ],
   "source": [
    "## EJEMPLO 2##\n",
    "def cuadrado(x):\n",
    "    return x**2\n",
    "a = np.array(range(20)) +1\n",
    "for i in a:\n",
    "    print 'El cuadrado de',  i,  'vale', cuadrado(i)"
   ]
  },
  {
   "cell_type": "markdown",
   "metadata": {},
   "source": [
    " # Proposicones Lógicas\n",
    "Una expresión lógica es algo verdadero o falso. Por ejemplo, sabemos que 2 es mayor que 1, por lo tanto es verdadero. Si pensamos en “2 es mayor que 1”, es falso. Este tipo de expresiones están plenamente soportadas en cualquier lenguaje de programación, y en Python tenemos las de la siguiente tabla:"
   ]
  },
  {
   "cell_type": "markdown",
   "metadata": {},
   "source": [
    "|Expresión | Resultado  |  Operador   |  Ejemplo   |\n",
    "|------|------|-----|-----|\n",
    "|  Igual   | Verdadero (True) si los dos operandos son iguales; falso (False) si no|   ==  |  2 == 3, retorna False.   |\n",
    "|Disntinto |Verdadero (True) si los dos operandos son diferentes; falso (False) si no|!=|2!=4, retorna True.|\n",
    "| Mayor que | Verdaero (True) si el lado izquierdo es mayor que el lado derecho, falso (False) si no| >| 100 > 9, retorna True.|\n",
    "|Mayor o igual que| Verdaero (True) si el lado izquierdo es mayor o igual que el lado derecho, falso (False) si no| >= | 100>=100 retorna True|\n",
    "| Negación | \tVerdadero (True) si la expresión a su derecha es falsa (False); falso (False) si no| not | not 500 < 200, retorna True|\n",
    "| Y lógico | Verdadero (True) si la expresión a su izquierda es verdadera y también la expresióna su derecha. Falso (False) encualquier otro caso| and| 6 <= 6 and 2 ==2 retorna True.| \n",
    "| O lógico | Verdadero (True) si la expresión a su izquierda es verdadera o lo es la expresión a su derecha. Falso (False) sólo en caso de que las dos sean falsas.| or | 10 <= 3 or 2 == 2, retorna True.|"
   ]
  },
  {
   "cell_type": "code",
   "execution_count": 37,
   "metadata": {
    "collapsed": false
   },
   "outputs": [
    {
     "name": "stdout",
     "output_type": "stream",
     "text": [
      "False\n",
      "True\n",
      "True\n",
      "True\n",
      "True\n",
      "True\n",
      "True\n"
     ]
    }
   ],
   "source": [
    "print 2 == 3\n",
    "print 2 != 4\n",
    "print 100 >9\n",
    "print 100>= 100\n",
    "print not 500 < 200\n",
    "print 6<= 6 and 2 ==2\n",
    "print 10<= 3 or 2 ==2"
   ]
  },
  {
   "cell_type": "markdown",
   "metadata": {},
   "source": [
    "# Sentencias condicionales\n",
    "\n",
    "Observemos la siguiente linea de código"
   ]
  },
  {
   "cell_type": "code",
   "execution_count": 39,
   "metadata": {
    "collapsed": false
   },
   "outputs": [
    {
     "name": "stdout",
     "output_type": "stream",
     "text": [
      "Efectivamente, 10 es menor que 30\n"
     ]
    }
   ],
   "source": [
    "if 10 > 30:\n",
    "    print(\"Python no funciona: cree que 10 es mayor que 30.\")\n",
    "elif 10 == 30:\n",
    "    print(\"Tampoco: ahora cree que 10 es igual a 30.\")\n",
    "else:\n",
    "    print(\"Efectivamente, 10 es menor que 30\")"
   ]
  },
  {
   "cell_type": "markdown",
   "metadata": {},
   "source": [
    "La sentencia  `if` significa “si”, sin tilde, condicional; else significa “en otro caso”, o “si no”; elif es simplemente una contracción de else e if. La parte de elif se podría haber omitido (es opcional) o repetido muchas veces, para evaluar toda una retahíla de condiciones alternativas. El final de la construcción, else, también es opcional pero sólo puede escribirse una vez.\n",
    "\n",
    "Es obvio que el resultado de la sentencia de ejemplo va a ser la frase “Efectivamente, 10 es menor que 30. Y así debe ser.”\n",
    "\n",
    "Así, queda clara la estructura de las condiciones en Python: se escriben usando la sentencia compuesta `if`, `elif`, `else`. Nos proporciona una forma de especificar una condición principal que, si se cumple, ejecuta un bloque de código. Para los casos en los que esa condición no se cumpla, podremos opcionalmente especificar una serie arbitrariamente larga de condiciones alternativas que, si se cumpliesen, harían que el intérprete de Python ejecutase otros bloques de código. Por último podremos especificar opcionalmente un último miembro que se ejecutará si todo lo demás es falso.\n",
    "\n",
    "**Importante**: Las condiciones de esta sentencia compuesta son excluyentes, tal y como marcan las conjunciones inglesas `else`, que podemos entender como “por el contrario”. `if`, `elif`, `else` especifican lo que se conoce como un árbol de reglas: en el momento en el que se cumple una de sus condiciones, el código toma una dirección y el resto del árbol no se evalúa.  Consideremos el siguiente ejemplo"
   ]
  },
  {
   "cell_type": "code",
   "execution_count": 40,
   "metadata": {
    "collapsed": false
   },
   "outputs": [
    {
     "name": "stdout",
     "output_type": "stream",
     "text": [
      "3 es mayor que 2.\n"
     ]
    }
   ],
   "source": [
    "if 3 > 2:\n",
    "    print (\"3 es mayor que 2.\")\n",
    "elif 3 < 5:\n",
    "    print (\"3 es menor que 5.\")\n",
    "elif 4 < 9:\n",
    "    print (\"4 es menor que 9.\")\n",
    "else:\n",
    "    print (\"Si lees esto, todo se fue a la mi... jaja\")"
   ]
  },
  {
   "cell_type": "markdown",
   "metadata": {},
   "source": [
    "Todas las sentencias condicionales son verdaderas, sin embargo solo se ejecuta la primera, esto es por que Python encuentra una rama de árbol en que se cumpla la afirmación, la ejecuta y todo termina.\n",
    "\n",
    "En el siguiente ejemplo, usaremos el comando `raw_input()`, que corresponde a una función de interacción con el usuario. Simplemente la consola nos solicita un dato (que puede ser númerico, string, entre otros) de forma interactiva."
   ]
  },
  {
   "cell_type": "code",
   "execution_count": 42,
   "metadata": {
    "collapsed": false
   },
   "outputs": [
    {
     "name": "stdout",
     "output_type": "stream",
     "text": [
      "Ingresa un entero, por favor: 3\n"
     ]
    }
   ],
   "source": [
    "x = int(raw_input(\"Ingresa un entero, por favor: \"))\n"
   ]
  },
  {
   "cell_type": "code",
   "execution_count": 44,
   "metadata": {
    "collapsed": false
   },
   "outputs": [
    {
     "name": "stdout",
     "output_type": "stream",
     "text": [
      "Ingresa un entero, por favor: 50\n",
      "El numero es positivo\n"
     ]
    }
   ],
   "source": [
    "## Ejemplo ## \n",
    "numero = int(raw_input(\"Ingresa un entero, por favor: \")) ## solicitamos a la consola preguntarnos por un numero\n",
    "if numero < 0:   \n",
    "    print 'El numero ingresado es negativo'\n",
    "elif numero == 0:\n",
    "    print 'El numero ingresado es 0'\n",
    "elif numero > 0:\n",
    "    print 'El numero es positivo'\n"
   ]
  },
  {
   "cell_type": "markdown",
   "metadata": {},
   "source": [
    "# Sentencias `while` y `break`\n",
    "While en inglés significa mientras, la sentencia `while` corresponde a un ciclo que se ejecutara hasta que una condición que hayamos indicado se cumpla, observar el siguiente ejemplo\n"
   ]
  },
  {
   "cell_type": "code",
   "execution_count": 4,
   "metadata": {
    "collapsed": false
   },
   "outputs": [
    {
     "name": "stdout",
     "output_type": "stream",
     "text": [
      "0 1 2 3 4 5 6 7 8 9 10 11 12 13 14 15 16 17 18 19 20 21 22 23 24 25 26 27 28 29 30 31 32 33 34 35 36 37 38 39 40 41 42 43 44 45 46 47 48 49 50 51 52 53 54 55 56 57 58 59 60 61 62 63 64 65 66 67 68 69 70 71 72 73 74 75 76 77 78 79 80 81 82 83 84 85 86 87 88 89 90 91 92 93 94 95 96 97 98 99\n"
     ]
    }
   ],
   "source": [
    "## Ejemplo ##\n",
    "contador = 0\n",
    "while contador < 100:\n",
    "    print contador, \n",
    "    contador = contador + 1\n",
    "\n",
    "      "
   ]
  },
  {
   "cell_type": "markdown",
   "metadata": {
    "collapsed": true
   },
   "source": [
    "El código anterior crea un contador, notar que impusimos la condición `while contador < 100`, esto significa que contaremos los 100 primeros números. Note con cuidado que el conteo comienza con el número 0. \n",
    "\n",
    "Otro ejemplo interesante, es la famosa sucesión de Fibonacci. La sucesión se define de forma recursiva:\n",
    "$$a_n = a_{n-1} + a_{n-2}$$\n",
    "iniciando con $a_0 = 0$ y $a_1 = 1$"
   ]
  },
  {
   "cell_type": "code",
   "execution_count": 5,
   "metadata": {
    "collapsed": false
   },
   "outputs": [
    {
     "name": "stdout",
     "output_type": "stream",
     "text": [
      "1 1 2 3 5 8 13 21 34 55 89 144 233 377 610 987 1597 2584 4181 6765\n"
     ]
    }
   ],
   "source": [
    "## Ejemplo: sucesión de Fibonacci\n",
    "a, b = 0, 1   # primeros dos elementos de la sucesión\n",
    "while b < 10000:\n",
    "    print b,\n",
    "    a, b = b, a+b\n",
    "    "
   ]
  },
  {
   "cell_type": "markdown",
   "metadata": {
    "collapsed": true
   },
   "source": [
    "La sentencia `break` se puede usar en bucles  `for`y `while` y simplemente termina el ciclo actual y continua con la ejecución de la siguiente instrucción, por ejemplo el código siguiente es un detector de números primos!"
   ]
  },
  {
   "cell_type": "code",
   "execution_count": 5,
   "metadata": {
    "collapsed": false
   },
   "outputs": [
    {
     "name": "stdout",
     "output_type": "stream",
     "text": [
      "2 es  primo\n",
      "3 es  primo\n",
      "4 no es primo\n",
      "5 es  primo\n",
      "6 no es primo\n",
      "7 es  primo\n",
      "8 no es primo\n",
      "9 no es primo\n",
      "10 no es primo\n",
      "11 es  primo\n",
      "12 no es primo\n",
      "13 es  primo\n",
      "14 no es primo\n",
      "15 no es primo\n",
      "16 no es primo\n",
      "17 es  primo\n",
      "18 no es primo\n",
      "19 es  primo\n",
      "20 no es primo\n",
      "21 no es primo\n",
      "22 no es primo\n",
      "23 es  primo\n",
      "24 no es primo\n",
      "25 no es primo\n",
      "26 no es primo\n",
      "27 no es primo\n",
      "28 no es primo\n",
      "29 es  primo\n"
     ]
    }
   ],
   "source": [
    "## EJEMPLO ##\n",
    "## DETECTOR DE NÚMEROS PRIMOS...##\n",
    "\n",
    "tope = 30\n",
    "for x in range(2,tope):\n",
    "    for y in range (2,x):\n",
    "        if x % y == 0:\n",
    "            print x, 'no es primo'    \n",
    "            break                      ############# Se termina el ciclo for cuando se encuentra un divisor!!!\n",
    "    else:\n",
    "        print x, 'es  primo'"
   ]
  },
  {
   "cell_type": "markdown",
   "metadata": {
    "collapsed": true
   },
   "source": [
    "**Observación:** En el código que usamos para detectar números primos, usamos la función `%` que entrega el resto de la división, por ejemplo $a$ `%` $b$ corresponde al resto de dividr $a$ por $b$"
   ]
  },
  {
   "cell_type": "markdown",
   "metadata": {},
   "source": [
    "# Ejercicio"
   ]
  },
  {
   "cell_type": "markdown",
   "metadata": {},
   "source": [
    "Un ejemplo interesante es programar la multiplicación matricial, si bien esta función esta incorporada en `numpy` con el comando `np.dot()`, resulta interesante programarla con fines de entrenamiento. Sean entonces $A\\in\\mathcal{M}_{m,n}(\\mathbb{R})$ y $A\\in\\mathcal{M}_{n,p}(\\mathbb{R})$. Escribir un código para calcular $C = AB$. Recordar que el elemento $c_{i,j}$ de la matriz $C$ viene dado por \n",
    "$$c_{i,j} = \\sum_{k = 1}^n a_{i,k}b_{k,j}$$"
   ]
  },
  {
   "cell_type": "code",
   "execution_count": null,
   "metadata": {
    "collapsed": true
   },
   "outputs": [],
   "source": [
    "######## Escribir respuesta aqui ################"
   ]
  }
 ],
 "metadata": {
  "kernelspec": {
   "display_name": "Python 2",
   "language": "python",
   "name": "python2"
  },
  "language_info": {
   "codemirror_mode": {
    "name": "ipython",
    "version": 2
   },
   "file_extension": ".py",
   "mimetype": "text/x-python",
   "name": "python",
   "nbconvert_exporter": "python",
   "pygments_lexer": "ipython2",
   "version": "2.7.11"
  }
 },
 "nbformat": 4,
 "nbformat_minor": 0
}
